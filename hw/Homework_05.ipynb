{
 "cells": [
  {
   "cell_type": "markdown",
   "id": "3254146f",
   "metadata": {
    "#question": false,
    "#solution": false,
    "#staff": false,
    "#student": false
   },
   "source": [
    "<table align=\"left\" style=\"border-style: hidden\" class=\"table\"> <tr><td class=\"col-md-2\"><img style=\"float\" src=\"../logo.png\" alt=\"Prob140 Logo\" style=\"width: 120px;\"/></td><td><div align=\"left\"><h3 style=\"margin-top: 0;\">Probability for Data Science</h3><h4 style=\"margin-top: 20px;\">UC Berkeley, Fall 2023</h4><p>Ani Adhikari and Alexander Strang</p>CC BY-NC-SA 4.0</div></td></tr></table><!-- not in pdf -->\n",
    "\n",
    "This content is protected and may not be shared, uploaded, or distributed."
   ]
  },
  {
   "cell_type": "markdown",
   "id": "1dfa3f1f-9014-42ee-95e3-800cb1023f00",
   "metadata": {
    "#question": false,
    "#solution": false,
    "#staff": false,
    "#student": true
   },
   "source": [
    "## **This homework is due at NOON on Monday, September 25th.** ##"
   ]
  },
  {
   "cell_type": "code",
   "execution_count": null,
   "id": "16f650e1",
   "metadata": {
    "#question": false,
    "#solution": false,
    "#staff": false,
    "#student": false
   },
   "outputs": [],
   "source": [
    "import warnings\n",
    "warnings.filterwarnings('ignore')\n",
    "\n",
    "from prob140 import *\n",
    "from datascience import *\n",
    "import numpy as np\n",
    "from scipy import stats\n",
    "\n",
    "import matplotlib.pyplot as plt\n",
    "%matplotlib inline\n",
    "import matplotlib\n",
    "matplotlib.style.use('fivethirtyeight')"
   ]
  },
  {
   "cell_type": "markdown",
   "id": "88120c9e",
   "metadata": {
    "#question": false,
    "#solution": false,
    "#staff": false,
    "#student": false
   },
   "source": [
    "# Homework 5 #"
   ]
  },
  {
   "cell_type": "markdown",
   "id": "d034e52b",
   "metadata": {
    "#question": false,
    "#solution": false,
    "#staff": false,
    "#student": true
   },
   "source": [
    "### Instructions\n",
    "\n",
    "Your homeworks will generally have two components: a written portion and a portion that also involves code.  Written work should be completed on paper, and coding questions should be done in the notebook. Start the work for the written portions of each section on a new page. You are welcome to $\\LaTeX$ your answers to the written portions, but staff will not be able to assist you with $\\LaTeX$ related issues. \n",
    "\n",
    "It is your responsibility to ensure that both components of the lab are submitted completely and properly to Gradescope. **Make sure to assign each page of your pdf to the correct question. Refer to the bottom of the notebook for submission instructions.**\n",
    "\n",
    "Every answer should contain a calculation or reasoning. For example, a calculation such as $(1/3)(0.8) + (2/3)(0.7)$ or `sum([(1/3)*0.8, (2/3)*0.7])`is fine without further explanation or simplification. If we want you to simplify, we'll ask you to. But just ${5 \\choose 2}$ by itself is not fine; write \"we want any 2 out of the 5 frogs and they can appear in any order\" or whatever reasoning you used. Reasoning can be brief and abbreviated, e.g. \"product rule\" or \"not mutually exclusive.\""
   ]
  },
  {
   "cell_type": "markdown",
   "id": "72fd7624",
   "metadata": {
    "#question": true,
    "#solution": false,
    "#staff": false,
    "#student": false
   },
   "source": [
    "## 1. Random Numbers of Trials ##\n",
    "As in lecture and the textbook, we will use \"$p$-coin\" to mean a coin that lands heads with probability $p$.  \n",
    "\n",
    "**a)** In a randomized controlled experiment, it costs researchers $t$ dollars to study each subject in the treatment group and $c$ dollars to study each subject in the control group. Suppose each of $n$ subjects is randomized into one of the two groups according to whether a $p$-coin lands heads (treatment) or tails (control). Find the expected total cost to study all $n$ subjects.\n",
    "\n",
    "**b)** I toss $n$ $p$-coins. Those that land tails I toss again, and then I stop. Find the expected total number of heads.\n",
    "\n",
    "**c)** I have one 0.25-coin, one fair coin, and three 0.75-coins. I pick one of the five coins at random and toss it till I get 10 heads. Find the numerical value of the expected number of tosses."
   ]
  },
  {
   "cell_type": "markdown",
   "id": "3257531c",
   "metadata": {
    "#question": false,
    "#solution": false,
    "#staff": false,
    "#student": false
   },
   "source": [
    "\\newpage"
   ]
  },
  {
   "cell_type": "markdown",
   "id": "3e0acd1c",
   "metadata": {
    "#question": true,
    "#solution": false,
    "#staff": false,
    "#student": false
   },
   "source": [
    "## 2. Waiting for a Success Run ##\n",
    "**Required Reading:** Before you start this section, carefully read **Answer 2** of [Section 9.3.4](http://prob140.org/textbook/content/Chapter_09/03_Expected_Waiting_Times.html#waiting-till-hh). That is the method you will apply in this exercise.\n",
    "\n",
    "In a sequence of i.i.d. Bernoulli $(p)$ trials, let H represent \"heads\" or \"success\", that is, the event that occurs with probability $p$. Let $W_{H,n}$ be the number of trials till you get $n$ heads in a row. \n",
    "\n",
    "Remember that \"till\" means \"up to and including\" the $n$ heads in a row. Thus if the sequence of tosses starts out as TTTHTHHH then $W_{H,1} = 4$, $W_{H,2} = 7$, and $W_{H,3} = 8$.\n",
    "\n",
    "**(a)** [These results are in the book but it will help to have them here for reference. You don't have to prove them here.] Write $E(W_{H,1})$ and $E(W_{H,2})$ as math expressions involving **only** positive terms of the form $1/p^k$ for positive integer $k$. \n",
    "\n",
    "**(b) Three heads in a row.** In Answer 2 of [Section 9.3.4](http://prob140.org/textbook/content/Chapter_09/03_Expected_Waiting_Times.html#waiting-till-hh), we condition on $W_{H,1}$ to get $E(W_{H,2})$. Now condition on $W_{H,2}$ to find $E(W_{H,3})$. As above, your answer should involve only positive terms of the form $1/p^k$ for positive integer $k$. Find the numerical value of $E(W_{H,3})$ in the case $p = 1/2$.\n",
    "\n",
    "**(c) $n$ heads in a row.** Guess an expression for $E(W_{H,n})$ for $n \\ge 1$. Prove it by induction, as follows: Assume that your guess is true for $n$, and show that then it must also be true for $n+1$. \n",
    "\n",
    "**(d)** Define a function `ev_W_run` that takes $p$ and $n$ as arguments and returns $E(W_{H,n})$. Just replace the ellipsis by an expression. Do not add any other lines of code."
   ]
  },
  {
   "cell_type": "code",
   "execution_count": null,
   "id": "5c56c6da",
   "metadata": {
    "#question": false,
    "#solution": false,
    "#staff": false,
    "#student": true
   },
   "outputs": [],
   "source": [
    "import numpy as np\n",
    "\n",
    "def ev_W_run(p, n):\n",
    "    return ..."
   ]
  },
  {
   "cell_type": "markdown",
   "id": "f0a85426",
   "metadata": {
    "#question": true,
    "#solution": false,
    "#staff": false,
    "#student": false
   },
   "source": [
    "\n",
    "Check that your function works by running the cell below and confirming that the answer is the same as what you got in Part **b**."
   ]
  },
  {
   "cell_type": "code",
   "execution_count": null,
   "id": "b6535151",
   "metadata": {
    "#question": false,
    "#solution": false,
    "#staff": false,
    "#student": true
   },
   "outputs": [],
   "source": [
    "ev_W_run(0.5, 3)"
   ]
  },
  {
   "cell_type": "markdown",
   "id": "da9dbb91",
   "metadata": {
    "#question": true,
    "#solution": false,
    "#staff": false,
    "#student": false
   },
   "source": [
    "\n",
    "Now use `ev_W_run` to find the expectation of each of the following random variables.\n",
    "\n",
    "(1) The number of tosses of a fair coin till 10 consecutive heads appear \n",
    "\n",
    "(2) The number of rolls of a fair die till six consecutive sixes appear\n",
    "\n",
    "(3) The number of times a random number generator is run till 000 appears, if the generator draws at random with replacement from the 10 digits 0, 1, 2, 3, 4, 5, 6, 7, 8, and 9\n",
    "\n",
    "(4) The number of days till a robot types $ZZZZZ$ if the robot types at the rate of 10 letters per second (without breaks) and chooses letters at random with replacement from the 26 upper case letters of the English alphabet"
   ]
  },
  {
   "cell_type": "code",
   "execution_count": null,
   "id": "9b314bf8",
   "metadata": {
    "#question": false,
    "#solution": false,
    "#staff": false,
    "#student": true
   },
   "outputs": [],
   "source": [
    "# Expected number of:\n",
    "\n",
    "# (1) fair coin tosses till 10 consecutive heads\n",
    "ans_1 = ...\n",
    "\n",
    "# (2) rolls of a die till 6 consecutive sixes\n",
    "ans_2 = ...\n",
    "\n",
    "# (3) runs of a random number generator till 000\n",
    "ans_3 = ...\n",
    "\n",
    "# (4) days till ZZZZZ by robot typist\n",
    "ans_4 = ...\n",
    "\n",
    "ans_1, ans_2, ans_3, ans_4"
   ]
  },
  {
   "cell_type": "markdown",
   "id": "9a5ef033",
   "metadata": {
    "#question": false,
    "#solution": false,
    "#staff": false,
    "#student": false
   },
   "source": [
    "\\newpage"
   ]
  },
  {
   "cell_type": "markdown",
   "id": "db9f87bf",
   "metadata": {
    "#question": true,
    "#solution": false,
    "#staff": false,
    "#student": false
   },
   "source": [
    "## 3. Winning Color ##\n",
    "In a population, the proportion of red elements is $p_r$, the proportion of blue elements is $p_b$, the proportion of green elements is $p_g$, and $p_r + p_b + p_g = 1$.\n",
    "\n",
    "In each part below, set $x$ equal to the quantity that you are trying to find, and develop an equation for $x$ by conditioning on the first couple of draws. Try to write the simplest equation you can. Then solve for $x$.\n",
    "\n",
    "**Do not use any other method. The point of this exercise is for you to learn how to use the method outlined above. It's almost certainly going to be shorter than any other correct method.**\n",
    "\n",
    "**a)** Alan draws repeatedly at random with replacement from the population, betting that the color red will appear before the color blue. Find the chance that he wins his bet. Your final answer should be in terms of $p_r$ and $p_b$ only, and you should aim for the simplest possible form.\n",
    "\n",
    "**b)** The answer to **a** can be applied in any situation where there are i.i.d. multinomial trials. For example, suppose a die is rolled repeatedly. Use your answer to Part **a** to find the chance that the face with one spot appears before all the faces that have an even number of spots.\n",
    "\n",
    "**c)** Now suppose Alan plays the following game with Katherine. They draw alternately at random with replacement from the population, with Alan drawing first. Alan wins if he draws red before Katherine has drawn blue. Katherine wins if she draws blue before Alan has drawn red. Find the chance that Alan wins the game. To keep your expressions simple, use the notation $q_r = 1-p_r$ and $q_b = 1 - p_b$.\n",
    "\n",
    "**d)** Find the expected duration of the game in Part **c**. That is, find the expected number of draws till there is a winner."
   ]
  },
  {
   "cell_type": "markdown",
   "id": "c5391342",
   "metadata": {
    "#question": false,
    "#solution": false,
    "#staff": false,
    "#student": true
   },
   "source": [
    "## Submission Instructions ##\n",
    "\n",
    "Many assignments throughout the course will have a written portion and a code portion. Please follow the directions below to properly submit both portions.\n",
    "\n",
    "### Written Portion ###\n",
    "*  Scan all the pages into a PDF. You can use any scanner or a phone using applications such as CamScanner. Please **DO NOT** simply take pictures using your phone. \n",
    "* Please start a new page for each question. If you have already written multiple questions on the same page, you can crop the image in CamScanner or fold your page over (the old-fashioned way). This helps expedite grading.\n",
    "* It is your responsibility to check that all the work on all the scanned pages is legible.\n",
    "* If you used $\\LaTeX$ to do the written portions, you do not need to do any scanning; you can just download the whole notebook as a PDF via LaTeX.\n",
    "\n",
    "### Code Portion ###\n",
    "* Save your notebook using `File > Save and Checkpoint`.\n",
    "* Generate a PDF file using `File > Download As > PDF via LaTeX`. This might take a few seconds and will automatically download a PDF version of this notebook.\n",
    "    * If you have issues, please post a follow-up on the general Homework 1 Ed thread.\n",
    "    \n",
    "### Submitting ###\n",
    "* Combine the PDFs from the written and code portions into one PDF. [Here](https://smallpdf.com/merge-pdf) is a useful tool for doing so. \n",
    "* Submit the assignment to Homework 5 on Gradescope. \n",
    "* **Make sure to assign each page of your pdf to the correct question.**\n",
    "* **It is your responsibility to verify that all of your work shows up in your final PDF submission.**\n",
    "\n",
    "If you are having difficulties scanning, uploading, or submitting your work, please read the [Ed Thread](https://edstem.org/us/courses/43303/discussion/3344107) on this topic and post a follow-up on the general Homework 5 Ed thread.\n",
    "\n",
    "\n",
    "## **We will not grade assignments which do not have pages selected for each question.** ##"
   ]
  }
 ],
 "metadata": {
  "checksums": [
   "2203b60bbde0ec55d4e0ef67dcbe8b65",
   "64ca86359404acb464a4a375fbfb07fc",
   "f6b7b3f605ba090e0efd9a26d52136e8",
   "54d2b808529b8f055694b8ea1e601f78",
   "79d3b9e4d2003abee17fab3aaee34aad",
   "7d29fd00f6cbbbae41e8e6ee54c78475",
   "562505d567faf02dfc9388e81e89d07b",
   "578c5d5f9a7548051305511b112ef4f9",
   "2d2ee3802e6db4f63c8350fd18b0e272",
   "57015ed4dea3185d90bf4f96e54c73cf",
   "97ad7cec01bae15e500d2a55e4b1acb2",
   "b5e99e46d862b81ff6d6606c5d0dbb94",
   "2bcb3c5f3a45364abfc19afebfa2fc75",
   "562505d567faf02dfc9388e81e89d07b",
   "e8e13cb4f2319ab24af080e110015820",
   "d17daa330de12b18e5c140eb05f3d851"
  ],
  "kernelspec": {
   "display_name": "Python 3",
   "language": "python",
   "name": "python3"
  },
  "language_info": {
   "codemirror_mode": {
    "name": "ipython",
    "version": 3
   },
   "file_extension": ".py",
   "mimetype": "text/x-python",
   "name": "python",
   "nbconvert_exporter": "python",
   "pygments_lexer": "ipython3",
   "version": "3.7.11"
  },
  "number_of_pagebreaks": 0
 },
 "nbformat": 4,
 "nbformat_minor": 5
}
