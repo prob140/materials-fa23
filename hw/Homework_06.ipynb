{
 "cells": [
  {
   "cell_type": "markdown",
   "metadata": {
    "#question": false,
    "#solution": false,
    "#staff": false,
    "#student": false
   },
   "source": [
    "<table align=\"left\" style=\"border-style: hidden\" class=\"table\"> <tr><td class=\"col-md-2\"><img style=\"float\" src=\"../logo.png\" alt=\"Prob140 Logo\" style=\"width: 120px;\"/></td><td><div align=\"left\"><h3 style=\"margin-top: 0;\">Probability for Data Science</h3><h4 style=\"margin-top: 20px;\">UC Berkeley, Fall 2023</h4><p>Ani Adhikari and Alexander Strang</p>CC BY-NC-SA 4.0</div></td></tr></table><!-- not in pdf -->\n",
    "\n",
    "This content is protected and may not be shared, uploaded, or distributed."
   ]
  },
  {
   "cell_type": "markdown",
   "metadata": {
    "#question": false,
    "#solution": false,
    "#staff": false,
    "#student": false
   },
   "source": [
    "# Homework 6"
   ]
  },
  {
   "cell_type": "markdown",
   "metadata": {
    "#question": false,
    "#solution": false,
    "#staff": false,
    "#student": true
   },
   "source": [
    "### Instructions\n",
    "\n",
    "Your homeworks will generally have two components: a written portion and a portion that also involves code.  Written work should be completed on paper, and coding questions should be done in the notebook. Start the work for the written portions of each section on a new page. You are welcome to $\\LaTeX$ your answers to the written portions, but staff will not be able to assist you with $\\LaTeX$ related issues. \n",
    "\n",
    "It is your responsibility to ensure that both components of the lab are submitted completely and properly to Gradescope. **Make sure to assign each page of your pdf to the correct question. Refer to the bottom of the notebook for submission instructions.**\n",
    "\n",
    "Every answer should contain a calculation or reasoning. For example, a calculation such as $(1/3)(0.8) + (2/3)(0.7)$ or `sum([(1/3)*0.8, (2/3)*0.7])`is fine without further explanation or simplification. If we want you to simplify, we'll ask you to. But just ${5 \\choose 2}$ by itself is not fine; write \"we want any 2 out of the 5 frogs and they can appear in any order\" or whatever reasoning you used. Reasoning can be brief and abbreviated, e.g. \"product rule\" or \"not mutually exclusive.\""
   ]
  },
  {
   "cell_type": "markdown",
   "metadata": {
    "#question": true,
    "#solution": false,
    "#staff": false,
    "#student": false
   },
   "source": [
    "## 1. Sausage Chain ##\n",
    "\n",
    "Let $X_0, X_1, X_2, \\ldots$ be a Markov Chain that has state space $\\{1, 2, 3, 4, 5\\}$ and one-step transition probabilities given by\n",
    "\n",
    "$$\n",
    "P(1, 2) ~ = ~ 1 ~ = ~ P(5, 4)\n",
    "$$\n",
    "and for $2 \\le i \\le 4$,\n",
    "$$\n",
    "P(i, j) ~ = ~ \n",
    "\\begin{cases}\n",
    "\\frac{1}{3} ~~ \\text{ if } j = i+1 \\\\\n",
    "\\frac{1}{3} ~~ \\text{ if } j = i \\\\\n",
    "\\frac{1}{3} ~~ \\text{ if } j = i-1 \\\\\n",
    "\\end{cases}\n",
    "$$\n",
    "\n",
    "**a)** Is there a probability distribution that satisfies the detailed balance equations for this chain? Why or why not?\n",
    "\n",
    "**b)** Find the stationary distribution of the chain.\n",
    "\n",
    "**c)** Find an approximate numerical value of $P(X_{1000} = 4 \\mid X_0 = 3)$."
   ]
  },
  {
   "cell_type": "markdown",
   "metadata": {
    "#question": false,
    "#solution": false,
    "#staff": false,
    "#student": false
   },
   "source": [
    "\\newpage"
   ]
  },
  {
   "cell_type": "markdown",
   "metadata": {
    "#question": true,
    "#solution": false,
    "#staff": false,
    "#student": false
   },
   "source": [
    "## 2. Switching Chain ##\n",
    "Consider a Markov Chain $X_0, X_1, \\ldots$ with the transition matrix given below, for some $0 < p < 1$ and $q = 1-p$.\n",
    "\n",
    "| **States**| $~~0~~$ | $~~1~~$ |\n",
    "|-----|-----|-----|\n",
    "| $~~0~~$ | $~~p~~$ | $~~q~~$ |\n",
    "| $~~1~~$ | $~~q~~$ | $~~p~~$ |\n",
    "\n",
    "**a)** Explain why this chain is irreducible and aperiodic.\n",
    "\n",
    "**b)** For $n \\ge 1$, let $C_n$ be the number of *switches* up to time $n$. That is, $C_n$ is the number of times the chain changes state up to and including time $n$. For example, if the path is 0 0 0 1 0 0 0 1 1, then $C_8 = 3$ (remember that the path starts at $X_0$). What is the distribution of $C_n$, and why?\n",
    "\n",
    "**c)** In the path $010100$, $X_0 = 0$ and $X_5 = 0$, so there is a $0 \\to 0$ transition in 5 steps. Find the value of $C_5$ for this path; you don't have to turn it in. For your own understanding, create several more examples of $0 \\to 0$ transitions for different values of $n$, and find the value of $C_n$ in each of your examples. There are already some more examples in the given path $010100$. For example the initial segment $010$ is a $0 \\to 0$ transition in 2 steps.\n",
    "\n",
    "Think about what is common to the values of $C_n$ that you found in your examples. Now fill in the blank with a word, and **justify your answer**. \n",
    "\n",
    "For $n \\ge 1$, \n",
    "$$\n",
    "P_n(0, 0) ~ = ~ P(C_n \\text{ is } \\underline{ ~~~~~~~~~~~~~~~ })\n",
    "$$\n",
    "\n",
    "**d)** Now find $P_n(0, 0)$ using Part **b**. [Hint: Compare the expansions of $(p+q)^n$ and $(p-q)^n$. How can you use both of them to get just the terms that you need?] \n",
    "\n",
    "**e)** Use Part **d** (not the balance equations) to find the stationary distribution of the chain. This will give you a complete proof of the stationary distribution in this case, whereas our general discussion of the balance equations relies on your acceptance of the main [convergence theorem](http://prob140.org/textbook/content/Chapter_10/03_Long_Run_Behavior.html#convergence-to-stationarity) without proof."
   ]
  },
  {
   "cell_type": "markdown",
   "metadata": {
    "#question": false,
    "#solution": false,
    "#staff": false,
    "#student": false
   },
   "source": [
    "\\newpage"
   ]
  },
  {
   "cell_type": "markdown",
   "metadata": {
    "#question": true,
    "#solution": false,
    "#staff": false,
    "#student": false
   },
   "source": [
    "## 3. Social Network\n",
    "\n",
    "A social network consists of a finite set of members. Members $i$ and $j$ are said to be *linked* if either they are friends or they are *friends of friends* which is shown in an example and then formally defined below. \n",
    "\n",
    "As an example, here is a social network that has five members A, B, C, D, and E. Friends are any two members that are connected by one line segment. For example, A and B are friends, and C and E are friends. Member A has 3 friends; B, C and D have one friend each; and E has two friends. Members B and C aren't friends but they are linked by the sequence of friends BAEC.\n",
    "\n",
    "![undirected graph](hw6_q3_graph.png)\n",
    "\n",
    "Formally, Members $i$ and $j$ are linked if either they are friends or for some $n \\ge 1$ there are members $a_1, a_2, \\ldots, a_n$ such that Members $i$ and $a_1$ are friends, Members $a_1$ and $a_2$ are friends, Members $a_2$ and $a_3$ are friends, and so on, and Members $a_n$ and $j$ are friends.\n",
    "\n",
    "Consider a network of $m$ members. For $1 \\le i \\le m$ let $f_i$ be the number of friends of Member $i$, and assume that $f_a \\ne f_b$ for some members $a$ and $b$. Also assume that every member is linked to every other member.\n",
    "\n",
    "Let $X_0, X_1, X_2, \\ldots$ be a Markov Chain on the set of members, with transitions based on the following proposal scheme. Given that the chain is at Member $i$:\n",
    "\n",
    "- Select a friend uniformly at random from all of Member $i$'s friends.\n",
    " \n",
    "- If the selected friend is Member $j$, then:\n",
    "\n",
    "    - If $f_j \\le f_i$, move to $j$.\n",
    "\n",
    "    - If $f_j > f_i$, toss a coin that lands heads with chance $f_i / f_j$. If it lands heads, move to $j$. If it lands tails, stay at $i$.\n",
    "\n",
    "\n",
    "**a)** For states $i \\ne j$, find the one-step transition probability $P(i, j) = P(X_1 = j \\mid X_0=i)$.\n",
    "\n",
    "**b)** Briefly explain why the chain has a steady state distribution, and find that distribution. Identify it as one of the famous ones and provide its name and parameters."
   ]
  },
  {
   "cell_type": "markdown",
   "metadata": {
    "#question": false,
    "#solution": false,
    "#staff": false,
    "#student": true
   },
   "source": [
    "## Submission Instructions ##\n",
    "\n",
    "Many assignments throughout the course will have a written portion and a code portion. Please follow the directions below to properly submit both portions.\n",
    "\n",
    "### Written Portion ###\n",
    "*  Scan all the pages into a PDF. You can use any scanner or a phone using applications such as CamScanner. Please **DO NOT** simply take pictures using your phone. \n",
    "* Please start a new page for each question. If you have already written multiple questions on the same page, you can crop the image in CamScanner or fold your page over (the old-fashioned way). This helps expedite grading.\n",
    "* It is your responsibility to check that all the work on all the scanned pages is legible.\n",
    "* If you used $\\LaTeX$ to do the written portions, you do not need to do any scanning; you can just download the whole notebook as a PDF via LaTeX.\n",
    "\n",
    "### Code Portion ###\n",
    "* Save your notebook using `File > Save and Checkpoint`.\n",
    "* Generate a PDF file using `File > Download As > PDF via LaTeX`. This might take a few seconds and will automatically download a PDF version of this notebook.\n",
    "    * If you have issues, please post a follow-up on the general Homework 6 Ed thread.\n",
    "    \n",
    "### Submitting ###\n",
    "* Combine the PDFs from the written and code portions into one PDF. [Here](https://smallpdf.com/merge-pdf) is a useful tool for doing so. \n",
    "* Submit the assignment to Homework 6 on Gradescope. \n",
    "* **Make sure to assign each page of your pdf to the correct question.**\n",
    "* **It is your responsibility to verify that all of your work shows up in your final PDF submission.**\n",
    "\n",
    "If you are having difficulties scanning, uploading, or submitting your work, please read the [Ed Thread](https://edstem.org/us/courses/43303/discussion/3344107) on this topic and post a follow-up on the general Homework 6 Ed thread.\n",
    "\n",
    "\n",
    "## **We will not grade assignments which do not have pages selected for each question.** ##"
   ]
  }
 ],
 "metadata": {
  "checksums": [
   "2203b60bbde0ec55d4e0ef67dcbe8b65",
   "23e47032618121765ce6ff9147605e9e",
   "79d3b9e4d2003abee17fab3aaee34aad",
   "b24abe0a0ddde3481fb0ef3d37b2aa20",
   "562505d567faf02dfc9388e81e89d07b",
   "4c5c92daea6bf34e2606edcbfaf9bef8",
   "562505d567faf02dfc9388e81e89d07b",
   "ce0ece89b1271c23253a59cb87f49a75",
   "a090d67aa63ebedb6112680142525793"
  ],
  "kernelspec": {
   "display_name": "Python 3",
   "language": "python",
   "name": "python3"
  },
  "language_info": {
   "codemirror_mode": {
    "name": "ipython",
    "version": 3
   },
   "file_extension": ".py",
   "mimetype": "text/x-python",
   "name": "python",
   "nbconvert_exporter": "python",
   "pygments_lexer": "ipython3",
   "version": "3.7.11"
  },
  "number_of_pagebreaks": 0
 },
 "nbformat": 4,
 "nbformat_minor": 4
}
