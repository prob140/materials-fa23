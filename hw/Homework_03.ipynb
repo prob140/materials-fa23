{
 "cells": [
  {
   "cell_type": "markdown",
   "metadata": {
    "#question": false,
    "#solution": false,
    "#staff": false,
    "#student": false
   },
   "source": [
    "<table align=\"left\" style=\"border-style: hidden\" class=\"table\"> <tr><td class=\"col-md-2\"><img style=\"float\" src=\"../logo.png\" alt=\"Prob140 Logo\" style=\"width: 120px;\"/></td><td><div align=\"left\"><h3 style=\"margin-top: 0;\">Probability for Data Science</h3><h4 style=\"margin-top: 20px;\">UC Berkeley, Fall 2023</h4><p>Ani Adhikari and Alexander Strang</p>CC BY-NC-SA 4.0</div></td></tr></table><!-- not in pdf -->\n",
    "\n",
    "This content is protected and may not be shared, uploaded, or distributed."
   ]
  },
  {
   "cell_type": "code",
   "execution_count": null,
   "metadata": {
    "#question": false,
    "#solution": false,
    "#staff": false,
    "#student": false
   },
   "outputs": [],
   "source": [
    "import warnings\n",
    "warnings.filterwarnings('ignore')\n",
    "\n",
    "from datascience import *\n",
    "from prob140 import *\n",
    "import numpy as np\n",
    "from scipy import stats\n",
    "from scipy import special\n",
    "\n",
    "%matplotlib inline\n",
    "import matplotlib.pyplot as plt\n",
    "plt.style.use('fivethirtyeight')"
   ]
  },
  {
   "cell_type": "markdown",
   "metadata": {
    "#question": false,
    "#solution": false,
    "#staff": false,
    "#student": false
   },
   "source": [
    "# Homework 3 #"
   ]
  },
  {
   "cell_type": "markdown",
   "metadata": {
    "#question": false,
    "#solution": false,
    "#staff": false,
    "#student": true,
    "jp-MarkdownHeadingCollapsed": true,
    "tags": []
   },
   "source": [
    "### Instructions\n",
    "\n",
    "Your homeworks will generally have two components: a written portion and a portion that also involves code.  Written work should be completed on paper, and coding questions should be done in the notebook. Start the work for the written portions of each section on a new page. You are welcome to $\\LaTeX$ your answers to the written portions, but staff will not be able to assist you with $\\LaTeX$ related issues. \n",
    "\n",
    "It is your responsibility to ensure that both components of the lab are submitted completely and properly to Gradescope. **Make sure to assign each page of your pdf to the correct question. Refer to the bottom of the notebook for submission instructions.**\n",
    "\n",
    "Every answer should contain a calculation or reasoning. For example, a calculation such as $(1/3)(0.8) + (2/3)(0.7)$ or `sum([(1/3)*0.8, (2/3)*0.7])`is fine without further explanation or simplification. If we want you to simplify, we'll ask you to. But just ${5 \\choose 2}$ by itself is not fine; write \"we want any 2 out of the 5 frogs and they can appear in any order\" or whatever reasoning you used. Reasoning can be brief and abbreviated, e.g. \"product rule\" or \"not mutually exclusive.\""
   ]
  },
  {
   "cell_type": "markdown",
   "metadata": {},
   "source": [
    "### Code Resources\n",
    "\n",
    "* [`Data 8` Code Reference](http://data8.org/sp22/python-reference.html)\n",
    "* [`Data 140` Code Reference](http://prob140.org/assets/references/final_reference_fa18.pdf)"
   ]
  },
  {
   "cell_type": "markdown",
   "metadata": {
    "#question": true,
    "#solution": false,
    "#staff": false,
    "#student": false
   },
   "source": [
    "## 1. College Degrees\n",
    "\n",
    "In the U.S., 38% of adults aged 25 and over have a four-year college degree.\n",
    "\n",
    "In each part below, write a math expression for the chance and provide a brief justification. Please use the appropriate summation, not \"...\". Then use the appropriate code cell to find the numerical value of the chance, using `stats.binom.pmf`, `stats.binom.cdf`, and arithmetic. See [the textbook](http://prob140.org/textbook/content/Chapter_06/01_Binomial_Distribution.html#binomial-probabilities-in-python) for a reference. The `stats` library of `scipy` has been imported in the top cell of this notebook.\n",
    "\n",
    "In what follows, we will use the term *population* to mean US adults aged 25 and over, and a *successful draw* to mean a draw that results in a person who has a four-year college degree.\n",
    "\n",
    "**a)** Suppose I draw from the population at random with replacement. What is the chance that at least one-third of my first 30 draws are successful?\n",
    "\n",
    "**b)** Suppose I draw from the population at random with replacement, till 10 of my draws are successful. What is the chance that I draw at most 30 times? How is this answer related to the answer in Part **a**?\n",
    "\n",
    "**c)** Suppose my friend and I both draw from the population at random with replacement, independently of each other. Suppose I make 30 draws and my friend makes 20 draws. What is the chance that I get more successful draws than my friend?"
   ]
  },
  {
   "cell_type": "code",
   "execution_count": null,
   "metadata": {
    "#question": false,
    "#solution": false,
    "#staff": false,
    "#student": true
   },
   "outputs": [],
   "source": [
    "# Answer to a. You can use more than one line of code.\n",
    "..."
   ]
  },
  {
   "cell_type": "code",
   "execution_count": null,
   "metadata": {
    "#question": false,
    "#solution": false,
    "#staff": false,
    "#student": true
   },
   "outputs": [],
   "source": [
    "# Answer to b. You can use more than one line of code.\n",
    "..."
   ]
  },
  {
   "cell_type": "code",
   "execution_count": null,
   "metadata": {
    "#question": false,
    "#solution": false,
    "#staff": false,
    "#student": true
   },
   "outputs": [],
   "source": [
    "# Answer to c. You can use more than one line of code.\n",
    "..."
   ]
  },
  {
   "cell_type": "markdown",
   "metadata": {
    "#question": false,
    "#solution": false,
    "#staff": false,
    "#student": false
   },
   "source": [
    "\\newpage"
   ]
  },
  {
   "cell_type": "markdown",
   "metadata": {
    "#question": true,
    "#solution": false,
    "#staff": false,
    "#student": false
   },
   "source": [
    "## 2. Poisson Approximation at Both Ends ##\n",
    "Consider $n$ independent Bernoulli $(p)$ trials.\n",
    "\n",
    "**a)** Fill in the blanks with names of distributions along with parameters in parentheses: If $n = 1000$ and $p=0.003$, the distribution of the number of successes is exactly $\\underline{~~~~~~~~~~~~~~~~~~~~~~~~~~~}$ $(\\underline{~~~~~~~~~~~~ })$ and approximately $\\underline{~~~~~~~~~~~~~~~~~~~~~~ }$ $(\\underline{~~~~~~~~~~~~ })$.\n",
    "\n",
    "**b)** Let $n$ be large and let $p$ be close to 1. Find a Poisson approximation to $p_k$ (the chance of $k$ successes) by an appropriate use of the Poisson approximation to the binomial derived in the textbook. \n",
    "\n",
    "**Note:** Don't try to derive a new limit from scratch. Just use the limit already derived in the textbook, but appropriately.\n",
    "\n",
    "**c)** Plot the probability histogram of the binomial (1000, 0.997) distribution, and overlay your Poisson approximation from part (b). For computing Poisson probabilities, see the [textbook](http://prob140.org/textbook/content/Chapter_06/06_Law_of_Small_Numbers.html#poisson-probabilities-in-python). Please don't plot the entire range of the binomial. Choose an informative range of values on the horizontal axis."
   ]
  },
  {
   "cell_type": "code",
   "execution_count": null,
   "metadata": {
    "#question": false,
    "#solution": false,
    "#staff": false,
    "#student": true
   },
   "outputs": [],
   "source": [
    "n = 1000\n",
    "p = 0.997\n",
    "\n",
    "k = ...                # array of possible values\n",
    "binomial_probs = ...   # array of exact binomial probabilities\n",
    "\n",
    "def poisson_approximation_pmf(j):\n",
    "    \"\"\"Returns the Poisson approximation to the\n",
    "    exact binomial probability of j successes\"\"\"\n",
    "    return ...\n",
    "\n",
    "exact_binomial = Table().values(k).probabilities(...)\n",
    "poisson_approximation = Table().values(k).probability_function(...)\n",
    "\n",
    "Plots(...)\n",
    "plt.xlim(..., ...)"
   ]
  },
  {
   "cell_type": "markdown",
   "metadata": {
    "#question": false,
    "#solution": false,
    "#staff": false,
    "#student": false
   },
   "source": [
    "\\newpage"
   ]
  },
  {
   "cell_type": "markdown",
   "metadata": {
    "#question": true,
    "#solution": false,
    "#staff": false,
    "#student": false
   },
   "source": [
    "## 3. Related Distribution Families ##\n",
    "\n",
    "As you have seen, the binomial distribution is closely related to the hypergeometric and Poisson distributions. Here are two more connections.\n",
    "\n",
    "**Note:** Both of the connections arise via conditioning. For an example of how to go about finding the conditional distribution of one random variable given the value of another, study the steps in [Section 6.2.3](http://prob140.org/textbook/content/Chapter_06/02_Examples.html#conditional-distribution-of-the-trial-that-results-in-the-first-success) of the textbook.  \n",
    "\n",
    "For all of your answers below, remember that when you are finding a distribution, you must first **provide the possible values**.\n",
    "\n",
    "**a)** Let $1 \\le n < m$ be integers. Consider $m$ i.i.d. Bernoulli trials with probability of $p$ of success on each trial. Let $X$ be the number of successes in the first $n$ trials and let $S$ be the number of successes in all $m$ trials. \n",
    "\n",
    "For a fixed integer $s$, find the conditional distribution of $X$ given $S=s$. Identify it as one of the famous ones and provide the parameters in terms of $m$, $n$, and $s$.\n",
    "\n",
    "**b)** Let $X$ and $Y$ be independent random variables such that $X$ has the Poisson $(\\mu)$ distribution and $Y$ has the Poisson $(\\lambda)$ distribution. \n",
    "\n",
    "For a fixed integer $n$, find the conditional distribution of $X$ given  $X+Y = n$. Identify it as one of the famous ones and provide the parameters in terms of $n$, $\\mu$, and $\\lambda$."
   ]
  },
  {
   "cell_type": "markdown",
   "metadata": {
    "#question": false,
    "#solution": false,
    "#staff": false,
    "#student": false
   },
   "source": [
    "\\newpage"
   ]
  },
  {
   "cell_type": "markdown",
   "metadata": {
    "#question": true,
    "#solution": false,
    "#staff": false,
    "#student": false
   },
   "source": [
    "## 4. Poissonization ##\n",
    "The math of Poissonization works out beautifully but the process can seem abstract. In this exercise you will carry out the Poissonization process to help make the results more concrete. \n",
    "\n",
    "**a) Fixed Number of Rolls.** Let's start with a more familiar setting. Suppose you roll a die 12 times. Let $X_1$ be the number of times the face with one spot appears. Complete the cell below to plot the distribution of $X_1$. In the last line, enter the name of the distribution and the parameters. [Section 6.6](http://prob140.org/textbook/content/Chapter_06/06_Law_of_Small_Numbers.html#poisson-probabilities-in-python) contains relevant examples of code."
   ]
  },
  {
   "cell_type": "code",
   "execution_count": null,
   "metadata": {
    "#question": false,
    "#solution": false,
    "#staff": false,
    "#student": true
   },
   "outputs": [],
   "source": [
    "k = np.arange(12)\n",
    "dist_X1_probs = ...\n",
    "dist_X1 = Table().values(k).probabilities(dist_X1_probs)\n",
    "Plot(dist_X1)\n",
    "plt.title('... (...) Distribution');"
   ]
  },
  {
   "cell_type": "markdown",
   "metadata": {
    "#question": true,
    "#solution": false,
    "#staff": false,
    "#student": false
   },
   "source": [
    "\n",
    "**b) Poisson Number of Rolls.** Now begin a simulation study of Poissonization. First, here are some computational notes.\n",
    "\n",
    "**Poisson:** To simulate a Poisson (`mu`) random variable once, use `stats.poisson.rvs` as in the cell below. You can also just enter the numerical value of `mu` directly in the argument. Run the cell a few times to see how the output changes. Ctrl-Return works well for this."
   ]
  },
  {
   "cell_type": "code",
   "execution_count": null,
   "metadata": {
    "#question": true,
    "#solution": false,
    "#staff": false,
    "#student": false
   },
   "outputs": [],
   "source": [
    "mu = 5\n",
    "stats.poisson.rvs(mu)"
   ]
  },
  {
   "cell_type": "markdown",
   "metadata": {
    "#question": true,
    "#solution": false,
    "#staff": false,
    "#student": false
   },
   "source": [
    "\n",
    "If you want to generate `n` independent copies of a Poisson (`mu`) random variable, use the `size` argument:"
   ]
  },
  {
   "cell_type": "code",
   "execution_count": null,
   "metadata": {
    "#question": true,
    "#solution": false,
    "#staff": false,
    "#student": false
   },
   "outputs": [],
   "source": [
    "n = 10\n",
    "stats.poisson.rvs(mu, size=n)"
   ]
  },
  {
   "cell_type": "markdown",
   "metadata": {
    "#question": true,
    "#solution": false,
    "#staff": false,
    "#student": false
   },
   "source": [
    "\n",
    "**Multinomial:** You can use `np.random.multinomial` to simulate the counts in all the categories in multinomial trials. As an example, suppose you want to simulate 50 independent and identically distributed trials such that the result of each one is red with chance 30%, green with chance 60%, and orange with chance 10%. \n",
    "\n",
    "The first argument is the number of trials. The second argument can be an array or a list of the probabilities of the categories on a single trial."
   ]
  },
  {
   "cell_type": "code",
   "execution_count": null,
   "metadata": {
    "#question": true,
    "#solution": false,
    "#staff": false,
    "#student": false
   },
   "outputs": [],
   "source": [
    "np.random.multinomial(50, [0.3, 0.6, 0.1])"
   ]
  },
  {
   "cell_type": "markdown",
   "metadata": {
    "#question": true,
    "#solution": false,
    "#staff": false,
    "#student": false
   },
   "source": [
    "\n",
    "The output is an array of the simulated counts in the three categories in the order in which the probabilities were specified (in this case, \"red, green, orange\"). The sum of the counts equals the first argument.\n",
    "\n",
    "Data 8 note: The `datascience` library method [`sample_proportions`](https://inferentialthinking.com/chapters/11/2/Multiple_Categories.html#comparison-with-panels-selected-at-random) is based on `np.random.multinomial`."
   ]
  },
  {
   "cell_type": "markdown",
   "metadata": {
    "#question": true,
    "#solution": false,
    "#staff": false,
    "#student": false
   },
   "source": [
    "\n",
    "**Appending Rows:** To augment a table with a row, use `tbl.append`. Unlike the `Table` methods commonly used in Data 8, `tbl.append` modifies `tbl`; it does not create a copy of it. This method was used in Step 4 of the [Monty Hall simulation](https://inferentialthinking.com/chapters/09/4/Monty_Hall_Problem.html#simulation) in Data 8.\n",
    "\n",
    "The cell below starts by creating the column labels and then appending rows."
   ]
  },
  {
   "cell_type": "code",
   "execution_count": null,
   "metadata": {
    "#question": true,
    "#solution": false,
    "#staff": false,
    "#student": false
   },
   "outputs": [],
   "source": [
    "my_table = Table(['First Column', 'Second Column', 'Third Column'])\n",
    "my_table.append([8, 100, 140])"
   ]
  },
  {
   "cell_type": "code",
   "execution_count": null,
   "metadata": {
    "#question": true,
    "#solution": false,
    "#staff": false,
    "#student": false
   },
   "outputs": [],
   "source": [
    "my_table"
   ]
  },
  {
   "cell_type": "code",
   "execution_count": null,
   "metadata": {
    "#question": true,
    "#solution": false,
    "#staff": false,
    "#student": false
   },
   "outputs": [],
   "source": [
    "my_table.append(np.arange(3))"
   ]
  },
  {
   "cell_type": "code",
   "execution_count": null,
   "metadata": {
    "#question": true,
    "#solution": false,
    "#staff": false,
    "#student": false
   },
   "outputs": [],
   "source": [
    "my_table"
   ]
  },
  {
   "cell_type": "markdown",
   "metadata": {
    "#question": true,
    "#solution": false,
    "#staff": false,
    "#student": false
   },
   "source": [
    "\n",
    "Now you are ready to Poissonize! Suppose you roll $N$ dice where $N$ has the Poisson $(12)$ distribution. For $1 \\le i \\le 6$, let $N_i$ be the number of times the face with $i$ spots appears. \n",
    "\n",
    "Complete the code cell to simulate the following process independently 100,000 times.\n",
    "\n",
    "- Generate a value of $N$.\n",
    "- Roll a die that many times.\n",
    "- Collect the values of $N_i$ for $1 \\le i \\le 6$.\n",
    "\n",
    "Your simulation should result in a table `counts` that has 100,000 rows. But **please don't start with 100,000 repetitions; just test out the code for 2 repetitions until you're sure it's working.** Then you can change the number of repetitions. The full simulation might take some time to run."
   ]
  },
  {
   "cell_type": "code",
   "execution_count": null,
   "metadata": {
    "#question": false,
    "#solution": false,
    "#staff": false,
    "#student": true
   },
   "outputs": [],
   "source": [
    "# Array or list of the probabilities of the six faces\n",
    "fair_die_probs = ...\n",
    "\n",
    "# Optional line in case you want to generate all the values of N at once; delete if not used\n",
    "...\n",
    "\n",
    "counts = Table(['N', 'N1', 'N2', 'N3', 'N4', 'N5', 'N6'])\n",
    "\n",
    "for ...:\n",
    "    ... # Use as many lines as you need or none\n",
    "    counts.append(np.append(...))\n",
    "    \n",
    "counts.show(5)"
   ]
  },
  {
   "cell_type": "markdown",
   "metadata": {
    "#question": true,
    "#solution": false,
    "#staff": false,
    "#student": false
   },
   "source": [
    "\n",
    "**c) Poissonization: The Number of Rolls.** Complete the two cells below to confirm that your simulated $N$ has the right distribution. We have restricted the range of possible values, for reasons that will be clear from the graphs. Refer to [Section 6.6](http://prob140.org/textbook/content/Chapter_06/06_Law_of_Small_Numbers.html#poisson-probabilities-in-python) for code examples relevant for the first cell."
   ]
  },
  {
   "cell_type": "code",
   "execution_count": null,
   "metadata": {
    "#question": false,
    "#solution": false,
    "#staff": false,
    "#student": true
   },
   "outputs": [],
   "source": [
    "# Probability distribution of N\n",
    "j = np.arange(36)\n",
    "dist_N_probs = ...\n",
    "dist_N = ...\n",
    "Plot(...)\n",
    "plt.title('Poisson (12) Distribution');"
   ]
  },
  {
   "cell_type": "code",
   "execution_count": null,
   "metadata": {
    "#question": false,
    "#solution": false,
    "#staff": false,
    "#student": true
   },
   "outputs": [],
   "source": [
    "# Empirical distribution of N\n",
    "counts...(..., bins=np.arange(-0.5, 36.6, 1))\n",
    "plt.title('Empirical Distribution of N');"
   ]
  },
  {
   "cell_type": "markdown",
   "metadata": {
    "#question": true,
    "#solution": false,
    "#staff": false,
    "#student": false
   },
   "source": [
    "\n",
    "**d) Poissonization: The Marginals.** Run the cell below to display the empirical distribution of each $N_i$."
   ]
  },
  {
   "cell_type": "code",
   "execution_count": null,
   "metadata": {
    "#question": false,
    "#solution": false,
    "#staff": false,
    "#student": false
   },
   "outputs": [],
   "source": [
    "counts.drop('N').hist(bins = np.arange(-0.5, 12.6, 1), overlay=False)"
   ]
  },
  {
   "cell_type": "markdown",
   "metadata": {
    "#question": false,
    "#solution": false,
    "#staff": false,
    "#student": false
   },
   "source": [
    "Not surprisingly, they resemble each other. Do they also look the same as the distribution you plotted in Part **a**? If not, what should each distribution be? Answer this question by completing the cell below. It's fine to just copy the code from Part **a** if that distribution is valid."
   ]
  },
  {
   "cell_type": "code",
   "execution_count": null,
   "metadata": {
    "#question": false,
    "#solution": false,
    "#staff": false,
    "#student": true
   },
   "outputs": [],
   "source": [
    "# Probability distribution of each N_i (same for all i)\n",
    "k = np.arange(12)\n",
    "dist_Ni_probs = ...\n",
    "... # Use as many lines as you need\n",
    "plt.title('... (...) Distribution');"
   ]
  },
  {
   "cell_type": "markdown",
   "metadata": {
    "#question": true,
    "#solution": false,
    "#staff": false,
    "#student": false
   },
   "source": [
    "\n",
    "**e) Poissonization: A Conditional Distribution.** What is the conditional distribution of $N_2$ given $N_1 < 4$? \n",
    "\n",
    "- First, write the answer based on the theory, with an explanation.\n",
    "- Next, complete the cell below to plot the empirical approximation to this distribution based on your simulations. The plot should be consistent with your answer based on the theory."
   ]
  },
  {
   "cell_type": "code",
   "execution_count": null,
   "metadata": {
    "#question": false,
    "#solution": false,
    "#staff": false,
    "#student": true
   },
   "outputs": [],
   "source": [
    "counts_restricted = counts...(...) # Applying the condition\n",
    "...(..., bins = np.arange(-0.5, 12.6, 1))\n",
    "plt.title('Empirical Conditional Distribution of N2 given N1 < 4');"
   ]
  },
  {
   "cell_type": "markdown",
   "metadata": {
    "#question": false,
    "#solution": false,
    "#staff": false,
    "#student": false
   },
   "source": [
    "\\newpage"
   ]
  },
  {
   "cell_type": "markdown",
   "metadata": {
    "#question": true,
    "#solution": false,
    "#staff": false,
    "#student": false
   },
   "source": [
    "## 5. Counting Categories\n",
    "\n",
    "In each part below, write the probabilities as math expressions. You don't have to find any numerical values. But please make sure there are **no infinite sums** in your answers. For distributions, you can just provide names and parameters if they are applicable. \n",
    "\n",
    "**a)** 18 dice are rolled. Let $X$ be the number of times the face with 1 spot appears. Let $Y$ be the number of times a multiple of 3 appears. What is the joint distribution of $X$ and $Y$? [Be careful about the possible values of the pair $(X, Y)$.]\n",
    "\n",
    "**b)** 18 dice are rolled. Find the chance that two of the faces appear 5 times each, another two faces appear 3 times each, and the remaining two faces appear 1 time each.\n",
    "\n",
    "**c)** Repeat Part **b** in the case when the number of dice rolled isn't 18 but is instead a random number that has the Poisson $(18)$ distribution.\n",
    "\n",
    "**d)** As in Part **c**, roll a random number of dice, where the random number has a Poisson $(18)$ distribution. Don't touch any die that shows the face with six spots. If there are any other dice (that is, if there are dice that don't show six spots), roll those dice one more time. Then stop.\n",
    "\n",
    "Let $S$ be the total number of dice that show the face with six spots when you stop. Find the distribution of $S$."
   ]
  },
  {
   "cell_type": "markdown",
   "metadata": {
    "#question": false,
    "#solution": false,
    "#staff": false,
    "#student": true
   },
   "source": [
    "## Submission Instructions ##\n",
    "\n",
    "Many assignments throughout the course will have a written portion and a code portion. Please follow the directions below to properly submit both portions.\n",
    "\n",
    "### Written Portion ###\n",
    "*  Scan all the pages into a PDF. You can use any scanner or a phone using applications such as CamScanner. Please **DO NOT** simply take pictures using your phone. \n",
    "* Please start a new page for each question. If you have already written multiple questions on the same page, you can crop the image in CamScanner or fold your page over (the old-fashioned way). This helps expedite grading.\n",
    "* It is your responsibility to check that all the work on all the scanned pages is legible.\n",
    "* If you used $\\LaTeX$ to do the written portions, you do not need to do any scanning; you can just download the whole notebook as a PDF via LaTeX.\n",
    "\n",
    "### Code Portion ###\n",
    "* Save your notebook using `File > Save and Checkpoint`.\n",
    "* Generate a PDF file using `File > Download As > PDF via LaTeX`. This might take a few seconds and will automatically download a PDF version of this notebook.\n",
    "    * If you have issues, please post a follow-up on the general Homework 3 Ed thread.\n",
    "    \n",
    "### Submitting ###\n",
    "* Combine the PDFs from the written and code portions into one PDF. [Here](https://smallpdf.com/merge-pdf) is a useful tool for doing so. \n",
    "* Submit the assignment to Homework 3 on Gradescope. \n",
    "* **Make sure to assign each page of your pdf to the correct question.**\n",
    "* **It is your responsibility to verify that all of your work shows up in your final PDF submission.**\n",
    "\n",
    "If you are having difficulties scanning, uploading, or submitting your work, please read the [Ed Thread](https://edstem.org/us/courses/43303/discussion/3344107) on this topic and post a follow-up on the general Homework 3 Ed thread.\n",
    "\n",
    "## **We will not grade assignments which do not have pages selected for each question.** ##"
   ]
  }
 ],
 "metadata": {
  "checksums": [
   "2203b60bbde0ec55d4e0ef67dcbe8b65",
   "0a152d7141294de79f6f69370ea8b582",
   "ca466c40003089a428b668a82180c6c6",
   "79d3b9e4d2003abee17fab3aaee34aad",
   "3b2b8f124ec607cff2ad0db5b26006aa",
   "9ac405455e116235ff92b8f477835b2f",
   "5791b599e238b33119f71ec7471a9a5e",
   "a7fe98cc40fd768b73693a502097ec82",
   "562505d567faf02dfc9388e81e89d07b",
   "d37db7cf18cbc8f5a0891b41e7230392",
   "b04c553d7983b9cd2c18c1d1258140ec",
   "562505d567faf02dfc9388e81e89d07b",
   "6f770113a8e4a907a471c1ce6aabbe69",
   "562505d567faf02dfc9388e81e89d07b",
   "4aa6bdc616d8aca747867c8c1ef6b1ac",
   "60bb0342b37b601208f9cabe42769136",
   "001037738b4178230d9dddfa457bb68c",
   "e7997b73ec5738eff121da5ae3f68b24",
   "45d6c90266819d7850038dbee1e698fb",
   "e4dfffc623fc57c0a4584fcf07a87deb",
   "10b72ac3c4bb6d65d450ea5b9c55a977",
   "517d5da0f90e7ceca041760e24bb5f91",
   "c606dfed2aec9a3785f8b8f3e20453e2",
   "0793f3d2df6a5388021c93fc011c50ec",
   "8d4d5452890917b929b7b74141c645a0",
   "c8682bde2b3657437c486ab16ba73fd2",
   "53d7345da4abd4ced3d2edda99b4d975",
   "c8682bde2b3657437c486ab16ba73fd2",
   "efd2378779b04a56ddab50196bb8fea3",
   "646f147e9bc1282cb8c8b8472d0c1b0a",
   "2a668a6b5b55f6a160008433a25bc22a",
   "a987e84552c9226468071da02073e619",
   "fc8d69c060f0aea0bd5b0be285b61698",
   "45cd3971678baf8624983a5672530a52",
   "cdcffbb7e72559f46011ca1eec0b141c",
   "653210effabe439d7d7c65ae839cd02a",
   "69ade395d59f1251835c699d06a9e959",
   "a374939f6e628237215221b5e7cf5ac7",
   "9e58ecbe53ec572c33af28383178fd44",
   "562505d567faf02dfc9388e81e89d07b",
   "4b0f668661ee8a5f81acbbe9c4180d93",
   "497308993c53a21ea632559ede5410ec"
  ],
  "kernelspec": {
   "display_name": "Python 3",
   "language": "python",
   "name": "python3"
  },
  "language_info": {
   "codemirror_mode": {
    "name": "ipython",
    "version": 3
   },
   "file_extension": ".py",
   "mimetype": "text/x-python",
   "name": "python",
   "nbconvert_exporter": "python",
   "pygments_lexer": "ipython3",
   "version": "3.7.11"
  },
  "number_of_pagebreaks": 0
 },
 "nbformat": 4,
 "nbformat_minor": 4
}
